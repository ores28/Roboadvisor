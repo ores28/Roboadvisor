{
 "cells": [
  {
   "cell_type": "code",
   "execution_count": 5,
   "metadata": {},
   "outputs": [
    {
     "name": "stdout",
     "output_type": "stream",
     "text": [
      "Optimized Portfolio:\n",
      "  Asset_Class Source  Optimized_Threshold  Adjusted_Weight  Investment_Amount\n",
      "0     Asset_1   cmf2             0.793278              1.0           100000.0\n"
     ]
    },
    {
     "name": "stderr",
     "output_type": "stream",
     "text": [
      "C:\\Users\\shara\\AppData\\Local\\Temp\\ipykernel_22064\\3462906656.py:22: SettingWithCopyWarning: \n",
      "A value is trying to be set on a copy of a slice from a DataFrame.\n",
      "Try using .loc[row_indexer,col_indexer] = value instead\n",
      "\n",
      "See the caveats in the documentation: https://pandas.pydata.org/pandas-docs/stable/user_guide/indexing.html#returning-a-view-versus-a-copy\n",
      "  selected_assets['Adjusted_Weight'] = selected_assets['Optimized_Threshold'] / total_ip_value\n",
      "C:\\Users\\shara\\AppData\\Local\\Temp\\ipykernel_22064\\3462906656.py:25: SettingWithCopyWarning: \n",
      "A value is trying to be set on a copy of a slice from a DataFrame.\n",
      "Try using .loc[row_indexer,col_indexer] = value instead\n",
      "\n",
      "See the caveats in the documentation: https://pandas.pydata.org/pandas-docs/stable/user_guide/indexing.html#returning-a-view-versus-a-copy\n",
      "  selected_assets['Adjusted_Weight'] /= selected_assets['Adjusted_Weight'].sum()\n",
      "C:\\Users\\shara\\AppData\\Local\\Temp\\ipykernel_22064\\3462906656.py:28: SettingWithCopyWarning: \n",
      "A value is trying to be set on a copy of a slice from a DataFrame.\n",
      "Try using .loc[row_indexer,col_indexer] = value instead\n",
      "\n",
      "See the caveats in the documentation: https://pandas.pydata.org/pandas-docs/stable/user_guide/indexing.html#returning-a-view-versus-a-copy\n",
      "  selected_assets['Investment_Amount'] = selected_assets['Adjusted_Weight'] * desired_savings_per_month\n"
     ]
    }
   ],
   "source": [
    "import pandas as pd\n",
    "\n",
    "def optimize_portfolio(weights_csv, user_risk_tolerance, desired_savings_per_month):\n",
    "    # Load the CSV containing the weights and asset information (e.g., ip-value, thresholds)\n",
    "    df = pd.read_csv(weights_csv)\n",
    "\n",
    "    # Initialize variables for the assets\n",
    "    df['Adjusted_Weight'] = 0.0  # Initialize a column for adjusted weights\n",
    "    \n",
    "    # Exclude assets based on the user's risk tolerance and threshold\n",
    "    df['Selected'] = df['Optimized_Threshold'] >= user_risk_tolerance\n",
    "    \n",
    "    # Filter out assets that do not meet the risk tolerance\n",
    "    selected_assets = df[df['Selected'] == True]\n",
    "    \n",
    "    if selected_assets.empty:\n",
    "        print(\"No assets meet the risk tolerance. Please lower the risk tolerance.\")\n",
    "        return None\n",
    "    \n",
    "    # Calculate the adjusted weights\n",
    "    total_ip_value = selected_assets['Optimized_Threshold'].sum()\n",
    "    selected_assets['Adjusted_Weight'] = selected_assets['Optimized_Threshold'] / total_ip_value\n",
    "    \n",
    "    # Normalize the weights to ensure they sum to 1\n",
    "    selected_assets['Adjusted_Weight'] /= selected_assets['Adjusted_Weight'].sum()\n",
    "    \n",
    "    # Now, calculate the investment amount per asset based on desired savings per month\n",
    "    selected_assets['Investment_Amount'] = selected_assets['Adjusted_Weight'] * desired_savings_per_month\n",
    "    \n",
    "    # Output the optimized portfolio\n",
    "    optimized_portfolio = selected_assets[['Asset_Class', 'Source', 'Optimized_Threshold', 'Adjusted_Weight', 'Investment_Amount']]\n",
    "    \n",
    "    return optimized_portfolio\n",
    "\n",
    "\n",
    "weights_csv = \"thresholds_grid_search.csv\"  # The CSV file containing the generated weights from the genetic algorithm\n",
    "user_risk_tolerance = 0.7 # The risk tolerance input by the user (e.g., 0.2)\n",
    "desired_savings_per_month = 100000  # The user's desired savings per month (e.g., 1000)\n",
    "\n",
    "\n",
    "optimized_portfolio = optimize_portfolio(weights_csv, user_risk_tolerance, desired_savings_per_month)\n",
    "\n",
    "# Check if the portfolio was optimized and print the result\n",
    "if optimized_portfolio is not None:\n",
    "    print(\"Optimized Portfolio:\")\n",
    "    print(optimized_portfolio)\n",
    "    # Optionally, save the optimized portfolio to a new CSV file\n",
    "    optimized_portfolio.to_csv(\"user_optimized_portfolio.csv\", index=False)"
   ]
  },
  {
   "cell_type": "code",
   "execution_count": null,
   "metadata": {},
   "outputs": [],
   "source": []
  }
 ],
 "metadata": {
  "kernelspec": {
   "display_name": "Python 3",
   "language": "python",
   "name": "python3"
  },
  "language_info": {
   "codemirror_mode": {
    "name": "ipython",
    "version": 3
   },
   "file_extension": ".py",
   "mimetype": "text/x-python",
   "name": "python",
   "nbconvert_exporter": "python",
   "pygments_lexer": "ipython3",
   "version": "3.11.9"
  }
 },
 "nbformat": 4,
 "nbformat_minor": 2
}
