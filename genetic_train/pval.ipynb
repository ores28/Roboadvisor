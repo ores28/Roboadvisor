{
 "cells": [
  {
   "cell_type": "code",
   "execution_count": 8,
   "metadata": {},
   "outputs": [
    {
     "name": "stdout",
     "output_type": "stream",
     "text": [
      "Columns in merged_results: Index(['Section', 'Index', 'Actual_ClosePrice', 'Predicted_ClosePrice',\n",
      "       'Reconstruction_Error', 'Scaled_Reconstruction_Error', 'iFMII_linear',\n",
      "       'iFMII_rank_linear', 'p_value_linear', 'Best_k', 'RMSE', 'Scaled_RMSE',\n",
      "       'iFMII_rank_nonlinear', 'p_value_nonlinear', 'iFMII_nonlinear'],\n",
      "      dtype='object')\n"
     ]
    }
   ],
   "source": [
    "import pandas as pd\n",
    "\n",
    "# Load the datasets\n",
    "linear_results = pd.read_csv(\"gibf1_section_predictions.csv\")  # Replace with your file path\n",
    "nonlinear_results = pd.read_csv(\"gibf1_nssar_ann_results.csv\")  # Replace with your file path\n",
    "\n",
    "# Ensure 'Section' column has the same data type in both DataFrames\n",
    "linear_results[\"Section\"] = linear_results[\"Section\"].astype(str)\n",
    "nonlinear_results[\"Section\"] = nonlinear_results[\"Section\"].astype(str)\n",
    "\n",
    "# Merge the datasets on the 'Section' column\n",
    "merged_results = pd.merge(\n",
    "    linear_results, nonlinear_results, on=\"Section\", suffixes=(\"_linear\", \"_nonlinear\")\n",
    ")\n",
    "\n",
    "print(\"Columns in merged_results:\", merged_results.columns)"
   ]
  },
  {
   "cell_type": "code",
   "execution_count": 9,
   "metadata": {},
   "outputs": [
    {
     "name": "stdout",
     "output_type": "stream",
     "text": [
      "\n",
      "✅ Final results with ip-value saved to 'final_results_with_ip_value.csv'.\n"
     ]
    }
   ],
   "source": [
    "# Calculate the ip-value using equal weights (0.5 * p_value_linear + 0.5 * p_value_nonlinear)\n",
    "merged_results[\"ip_value\"] = (\n",
    "    0.5 * merged_results[\"p_value_linear\"] + 0.5 * merged_results[\"p_value_nonlinear\"]\n",
    ")\n",
    "\n",
    "# Save the final results to a new CSV file\n",
    "merged_results.to_csv(\"gibf1_final_results_with_ip_value.csv\", index=False)\n",
    "\n",
    "print(\"\\n✅ Final results with ip-value saved to 'final_results_with_ip_value.csv'.\")"
   ]
  },
  {
   "cell_type": "code",
   "execution_count": null,
   "metadata": {},
   "outputs": [],
   "source": []
  }
 ],
 "metadata": {
  "kernelspec": {
   "display_name": "Python 3",
   "language": "python",
   "name": "python3"
  },
  "language_info": {
   "codemirror_mode": {
    "name": "ipython",
    "version": 3
   },
   "file_extension": ".py",
   "mimetype": "text/x-python",
   "name": "python",
   "nbconvert_exporter": "python",
   "pygments_lexer": "ipython3",
   "version": "3.11.9"
  }
 },
 "nbformat": 4,
 "nbformat_minor": 2
}
