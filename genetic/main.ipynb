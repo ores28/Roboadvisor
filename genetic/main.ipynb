{
 "cells": [
  {
   "cell_type": "code",
   "execution_count": null,
   "metadata": {},
   "outputs": [],
   "source": [
    "import pandas as pd\n",
    "\n",
    "def optimize_portfolio(weights_csv, user_risk_tolerance, desired_savings_per_month):\n",
    "    # Load the CSV containing the weights and asset information (e.g., ip-value, thresholds)\n",
    "    df = pd.read_csv(weights_csv)\n",
    "\n",
    "    # Initialize variables for the assets\n",
    "    df['Adjusted_Weight'] = 0.0  # Initialize a column for adjusted weights\n",
    "    \n",
    "    # Exclude assets based on the user's risk tolerance and threshold\n",
    "    df['Selected'] = df['ip_value'] >= user_risk_tolerance\n",
    "    \n",
    "    # Filter out assets that do not meet the risk tolerance\n",
    "    selected_assets = df[df['Selected'] == True]\n",
    "    \n",
    "    if selected_assets.empty:\n",
    "        print(\"No assets meet the risk tolerance. Please lower the risk tolerance.\")\n",
    "        return None\n",
    "    \n",
    "    # Calculate the adjusted weights\n",
    "    total_ip_value = selected_assets['ip_value'].sum()\n",
    "    selected_assets['Adjusted_Weight'] = selected_assets['ip_value'] / total_ip_value\n",
    "    \n",
    "    # Normalize the weights to ensure they sum to 1\n",
    "    selected_assets['Adjusted_Weight'] /= selected_assets['Adjusted_Weight'].sum()\n",
    "    \n",
    "    # Now, calculate the investment amount per asset based on desired savings per month\n",
    "    selected_assets['Investment_Amount'] = selected_assets['Adjusted_Weight'] * desired_savings_per_month\n",
    "    \n",
    "    # Output the optimized portfolio\n",
    "    optimized_portfolio = selected_assets[['Asset_Class', 'Source', 'ip_value', 'Adjusted_Weight', 'Investment_Amount']]\n",
    "    \n",
    "    return optimized_portfolio\n",
    "\n",
    "# Example Usage\n",
    "weights_csv = \"optimized_portfolio.csv\"  # The CSV file containing the generated weights from the genetic algorithm\n",
    "user_risk_tolerance = 0.2  # The risk tolerance input by the user (e.g., 0.2)\n",
    "desired_savings_per_month = 1000  # The user's desired savings per month (e.g., 1000)\n",
    "\n",
    "# Get the optimized portfolio\n",
    "optimized_portfolio = optimize_portfolio(weights_csv, user_risk_tolerance, desired_savings_per_month)\n",
    "\n",
    "# Check if the portfolio was optimized and print the result\n",
    "if optimized_portfolio is not None:\n",
    "    print(\"Optimized Portfolio:\")\n",
    "    print(optimized_portfolio)\n",
    "    # Optionally, save the optimized portfolio to a new CSV file\n",
    "    optimized_portfolio.to_csv(\"user_optimized_portfolio.csv\", index=False)"
   ]
  }
 ],
 "metadata": {
  "language_info": {
   "name": "python"
  }
 },
 "nbformat": 4,
 "nbformat_minor": 2
}
